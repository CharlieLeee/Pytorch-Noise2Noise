{
 "cells": [
  {
   "cell_type": "code",
   "execution_count": 14,
   "metadata": {},
   "outputs": [],
   "source": [
    "class test():\n",
    "    def __init__(self, prop):\n",
    "        self.prop = prop\n",
    "        print(self.prop)\n",
    "    def change(self, prop):\n",
    "        self.prop = prop\n",
    "        return self\n",
    "    def my_name(self):\n",
    "        print(self.prop)"
   ]
  },
  {
   "cell_type": "code",
   "execution_count": 15,
   "metadata": {},
   "outputs": [
    {
     "name": "stdout",
     "output_type": "stream",
     "text": [
      "name\n"
     ]
    }
   ],
   "source": [
    "a = test('name')"
   ]
  },
  {
   "cell_type": "code",
   "execution_count": 16,
   "metadata": {},
   "outputs": [],
   "source": [
    "a = a.change('sfds')"
   ]
  },
  {
   "cell_type": "code",
   "execution_count": 17,
   "metadata": {},
   "outputs": [
    {
     "name": "stdout",
     "output_type": "stream",
     "text": [
      "sfds\n"
     ]
    }
   ],
   "source": [
    "\n",
    "a.my_name()"
   ]
  },
  {
   "cell_type": "code",
   "execution_count": 30,
   "metadata": {},
   "outputs": [],
   "source": [
    "import torch\n",
    "from model import Conv2d, Upsample2d, ReLU, Sequential, sigmoid\n",
    "import torch.nn.functional as F"
   ]
  },
  {
   "cell_type": "code",
   "execution_count": 202,
   "metadata": {},
   "outputs": [],
   "source": [
    "model = Sequential(\n",
    "    Conv2d(3, 32, 3, stride=2),\n",
    "    ReLU(), \n",
    "    Conv2d(32, 64, 3, stride=2, dilation=2),\n",
    "    ReLU(), \n",
    "    Upsample2d(3, 64, 32, stride=1, kernel_size=3, padding=0),\n",
    "    ReLU(), \n",
    "    Upsample2d(2, 32, 3, stride=1, kernel_size=3, padding=0),\n",
    "    sigmoid()\n",
    ")"
   ]
  },
  {
   "cell_type": "code",
   "execution_count": 203,
   "metadata": {},
   "outputs": [],
   "source": [
    "inp = torch.rand(10, 3, 32, 32)"
   ]
  },
  {
   "cell_type": "code",
   "execution_count": 204,
   "metadata": {},
   "outputs": [
    {
     "data": {
      "text/plain": [
       "torch.Size([10, 3, 32, 32])"
      ]
     },
     "execution_count": 204,
     "metadata": {},
     "output_type": "execute_result"
    }
   ],
   "source": [
    "model(inp).shape"
   ]
  },
  {
   "cell_type": "code",
   "execution_count": null,
   "metadata": {},
   "outputs": [],
   "source": []
  }
 ],
 "metadata": {
  "interpreter": {
   "hash": "a0cf02273eead11651ba4d8ee11c118acb797b98a6b4808a1010fc2ade401fc6"
  },
  "kernelspec": {
   "display_name": "Python 3.7.13 ('motion')",
   "language": "python",
   "name": "python3"
  },
  "language_info": {
   "codemirror_mode": {
    "name": "ipython",
    "version": 3
   },
   "file_extension": ".py",
   "mimetype": "text/x-python",
   "name": "python",
   "nbconvert_exporter": "python",
   "pygments_lexer": "ipython3",
   "version": "3.7.13"
  },
  "orig_nbformat": 4
 },
 "nbformat": 4,
 "nbformat_minor": 2
}
